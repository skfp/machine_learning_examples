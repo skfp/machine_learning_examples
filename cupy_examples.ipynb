{
 "cells": [
  {
   "cell_type": "code",
   "execution_count": 4,
   "id": "9c942353",
   "metadata": {},
   "outputs": [],
   "source": [
    "import numpy as np\n",
    "# import pandas as pd\n",
    "import cupy as cp\n",
    "import time"
   ]
  },
  {
   "cell_type": "code",
   "execution_count": 5,
   "id": "40e99f16",
   "metadata": {},
   "outputs": [
    {
     "name": "stdout",
     "output_type": "stream",
     "text": [
      "NumPy result (first 5 elements): [0.03451852 0.80790456 0.14581313 0.283345   0.85503939]\n",
      "CuPy result (first 5 elements): [0.03451852 0.80790456 0.14581313 0.283345   0.85503939]\n",
      "NumPy computation time: 0.17476963996887207 seconds\n",
      "CuPy computation time: 0.08441829681396484 seconds\n",
      "Speedup factor: 2.070281521481264\n"
     ]
    }
   ],
   "source": [
    "# Define a large array\n",
    "size = 100000000 # 100 million elements\n",
    "a_np = np.random.rand(size)\n",
    "a_cp = cp.asarray(a_np)\n",
    "\n",
    "# Function to compute square using NumPy\n",
    "def compute_with_numpy(arr):\n",
    "    start_time = time.time()\n",
    "    result = arr ** 2\n",
    "    end_time = time.time()\n",
    "    return result, end_time - start_time\n",
    "\n",
    "# Function to compute square using CuPy\n",
    "def compute_with_cupy(arr):\n",
    "    start_time = time.time()\n",
    "    result = arr ** 2\n",
    "    cp.cuda.Stream.null.synchronize()  # Ensure the computation is finished\n",
    "    end_time = time.time()\n",
    "    return result, end_time - start_time\n",
    "\n",
    "# Perform computation with NumPy\n",
    "result_np, time_np = compute_with_numpy(a_np)\n",
    "\n",
    "# Perform computation with CuPy\n",
    "result_cp, time_cp = compute_with_cupy(a_cp)\n",
    "\n",
    "# Print the results and computation times\n",
    "print(\"NumPy result (first 5 elements):\", result_np[:5])\n",
    "print(\"CuPy result (first 5 elements):\", cp.asnumpy(result_cp)[:5])\n",
    "print(\"NumPy computation time:\", time_np, \"seconds\")\n",
    "print(\"CuPy computation time:\", time_cp, \"seconds\")\n",
    "\n",
    "print(\"Speedup factor:\", time_np / time_cp)\n"
   ]
  },
  {
   "cell_type": "code",
   "execution_count": null,
   "id": "64464270",
   "metadata": {},
   "outputs": [
    {
     "name": "stdout",
     "output_type": "stream",
     "text": [
      "NumPy result (first 5 elements): [9.90317289e-08 1.63131058e-07 1.34742675e-06 3.58628245e-06\n",
      " 4.69393108e-06]\n",
      "CuPy result (first 5 elements): [9.90317289e-08 1.63131058e-07 1.34742675e-06 3.58628245e-06\n",
      " 4.69393108e-06]\n",
      "NumPy computation time: 0.03084397315979004 seconds\n",
      "CuPy computation time: 0.0007066726684570312 seconds\n",
      "Speedup factor: 43.64676113360324\n"
     ]
    }
   ],
   "source": [
    "# Sorting a large array example\n",
    "\n",
    "# Define a large array\n",
    "size = 1000000 # 1 million elements\n",
    "a_np = np.random.rand(size)\n",
    "a_cp = cp.asarray(a_np)\n",
    "\n",
    "# Function to compute square using NumPy\n",
    "def compute_with_numpy(arr):\n",
    "    start_time = time.time()\n",
    "    result = np.sort(arr)\n",
    "    end_time = time.time()\n",
    "    return result, end_time - start_time\n",
    "\n",
    "# Function to compute square using CuPy\n",
    "def compute_with_cupy(arr):\n",
    "    start_time = time.time()\n",
    "    result = cp.sort(arr)\n",
    "    cp.cuda.Stream.null.synchronize()  # Ensure the computation is finished\n",
    "    end_time = time.time()\n",
    "    return result, end_time - start_time\n",
    "\n",
    "# Perform computation with NumPy\n",
    "result_np, time_np = compute_with_numpy(a_np)\n",
    "\n",
    "# Perform computation with CuPy\n",
    "result_cp, time_cp = compute_with_cupy(a_cp)\n",
    "\n",
    "# Print the results and computation times\n",
    "print(\"NumPy result (first 5 elements):\", result_np[:5])\n",
    "print(\"CuPy result (first 5 elements):\", cp.asnumpy(result_cp)[:5])\n",
    "print(\"NumPy computation time:\", time_np, \"seconds\")\n",
    "print(\"CuPy computation time:\", time_cp, \"seconds\")\n",
    "\n",
    "print(\"Speedup factor:\", time_np / time_cp)"
   ]
  },
  {
   "cell_type": "code",
   "execution_count": 21,
   "id": "316a6646",
   "metadata": {},
   "outputs": [
    {
     "name": "stdout",
     "output_type": "stream",
     "text": [
      "NumPy result: 0.5001057185899318\n",
      "CuPy result: 0.5001057185899318\n",
      "NumPy computation time: 0.027167797088623047 seconds\n",
      "CuPy computation time: 0.0011267662048339844 seconds\n",
      "Speedup factor: 24.111299195937367\n"
     ]
    }
   ],
   "source": [
    "# Finding median of an array\n",
    "\n",
    "# Define a large array\n",
    "size = 1000000 # 1 million elements\n",
    "a_np = np.random.rand(size)\n",
    "a_cp = cp.asarray(a_np)\n",
    "\n",
    "# Function to compute square using NumPy\n",
    "def compute_with_numpy(arr):\n",
    "    start_time = time.time()\n",
    "    result = np.median(arr)\n",
    "    end_time = time.time()\n",
    "    return result, end_time - start_time\n",
    "\n",
    "# Function to compute square using CuPy\n",
    "def compute_with_cupy(arr):\n",
    "    start_time = time.time()\n",
    "    result = cp.median(arr)\n",
    "    cp.cuda.Stream.null.synchronize()  # Ensure the computation is finished\n",
    "    end_time = time.time()\n",
    "    return result, end_time - start_time\n",
    "\n",
    "# Perform computation with NumPy\n",
    "result_np, time_np = compute_with_numpy(a_np)\n",
    "\n",
    "# Perform computation with CuPy\n",
    "result_cp, time_cp = compute_with_cupy(a_cp)\n",
    "\n",
    "# Print the results and computation times\n",
    "print(\"NumPy result:\", result_np)\n",
    "print(\"CuPy result:\", cp.asnumpy(result_cp))\n",
    "print(\"NumPy computation time:\", time_np, \"seconds\")\n",
    "print(\"CuPy computation time:\", time_cp, \"seconds\")\n",
    "\n",
    "print(\"Speedup factor:\", time_np / time_cp)"
   ]
  },
  {
   "cell_type": "code",
   "execution_count": null,
   "id": "4ae0f441",
   "metadata": {},
   "outputs": [],
   "source": [
    "# Some more examples:\n",
    "# https://www.unum.cloud/blog/2022-01-26-cupy"
   ]
  },
  {
   "cell_type": "code",
   "execution_count": null,
   "id": "c878ca0c",
   "metadata": {},
   "outputs": [],
   "source": []
  },
  {
   "cell_type": "code",
   "execution_count": null,
   "id": "9c850c72",
   "metadata": {},
   "outputs": [],
   "source": []
  },
  {
   "cell_type": "code",
   "execution_count": null,
   "id": "2f36d02f",
   "metadata": {},
   "outputs": [],
   "source": []
  }
 ],
 "metadata": {
  "kernelspec": {
   "display_name": ".venv",
   "language": "python",
   "name": "python3"
  },
  "language_info": {
   "codemirror_mode": {
    "name": "ipython",
    "version": 3
   },
   "file_extension": ".py",
   "mimetype": "text/x-python",
   "name": "python",
   "nbconvert_exporter": "python",
   "pygments_lexer": "ipython3",
   "version": "3.12.7"
  }
 },
 "nbformat": 4,
 "nbformat_minor": 5
}
